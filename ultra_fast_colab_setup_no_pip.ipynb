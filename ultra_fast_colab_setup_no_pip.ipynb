{
  "nbformat": 4,
  "nbformat_minor": 0,
  "metadata": {
    "colab": {
      "private_outputs": true,
      "provenance": [],
      "include_colab_link": true
    },
    "kernelspec": {
      "name": "python3",
      "display_name": "Python 3"
    },
    "language_info": {
      "name": "python"
    }
  },
  "cells": [
    {
      "cell_type": "markdown",
      "metadata": {
        "id": "view-in-github",
        "colab_type": "text"
      },
      "source": [
        "<a href=\"https://colab.research.google.com/github/PhoenixStormJr/ultra-fast-colab-setup-no-pip/blob/main/ultra_fast_colab_setup_no_pip.ipynb\" target=\"_parent\"><img src=\"https://colab.research.google.com/assets/colab-badge.svg\" alt=\"Open In Colab\"/></a>"
      ]
    },
    {
      "cell_type": "code",
      "execution_count": null,
      "metadata": {
        "id": "DFSesKQVuRKZ"
      },
      "outputs": [],
      "source": [
        "#@title Install dependencies to Google Drive .zip folder\n",
        "\n",
        "#Replace this text here with the dependencies you'd like to zip:\n",
        "RequirementsDriveText=\"\"\"joblib>=1.1.0\n",
        "numba==0.56.4\n",
        "numpy==1.23.5\n",
        "scipy\n",
        "librosa==0.9.1\n",
        "llvmlite==0.39.0\n",
        "fairseq>=0.12.2\n",
        "soundfile>=0.12.1\n",
        "ffmpeg-python>=0.2.0\n",
        "matplotlib==3.9.4\n",
        "matplotlib-inline>=0.1.3\n",
        "praat-parselmouth>=0.4.2\n",
        "Pillow>=9.1.1\n",
        "resampy>=0.4.2\n",
        "scikit-learn\n",
        "tensorboard==2.19.0\n",
        "tqdm>=4.63.1\n",
        "sympy==1.13.1\n",
        "tabulate>=0.8.10\n",
        "PyYAML>=6.0\n",
        "absl-py>=1.2.0\n",
        "audioread\n",
        "colorama>=0.4.5\n",
        "pyworld==0.3.2\n",
        "av\n",
        "torch==2.5.0\n",
        "python-dotenv\n",
        "faiss-cpu==1.7.3\n",
        "torchcrepe==0.0.20\"\"\"\n",
        "\n",
        "\n",
        "Save_zip_to = '/content/drive/MyDrive/speed_up_RVC/RVC-Easy-GUI-dist-packages.zip' # @param {type:\"string\"}\n",
        "\n",
        "\n",
        "#The rest of the code is the installation of the packages:\n",
        "\n",
        "#First we change to /content just to be safe:\n",
        "%cd /content\n",
        "\n",
        "import os\n",
        "\n",
        "#Connect to google drive to SAVE the .zip file\n",
        "from google.colab import drive\n",
        "drive.mount('/content/drive')\n",
        "\n",
        "#This is the default installation of the packages for python3.10.\n",
        "#This is the same format I will use for my .zip file:\n",
        "#/usr/local/lib/python3.10/dist-packages\n",
        "\n",
        "#Create a requirements.txt file and write the requirements we wrote above to it:\n",
        "RequirementsFile = open(\"/content/requirements.txt\", \"w\")\n",
        "RequirementsFile.write(RequirementsDriveText)\n",
        "RequirementsFile.close()\n",
        "\n",
        "#Install python3.10:\n",
        "!sudo apt install python3.10 python3.10-venv python3.10-dev python3.10-minimal python3.10-distutils\n",
        "\n",
        "#Install pip:\n",
        "!curl -O https://bootstrap.pypa.io/get-pip.py\n",
        "!python3.10 get-pip.py\n",
        "!python3.10 -m pip install --upgrade pip==24.0\n",
        "\n",
        "#Install the dependencies to a DIFFERENT directory we just created:\n",
        "if not os.path.exists(\"/local/lib/python3.10/dist-packages\"):\n",
        "  os.makedirs(\"/local/lib/python3.10/dist-packages\")\n",
        "!python3.10 -m pip install -r requirements.txt --target=\"/local/lib/python3.10/dist-packages\"\n",
        "\n",
        "#Install extra dependencies with the DEFAULT python package, if you prefer this:\n",
        "if not os.path.exists(\"/local/lib/python3.11/dist-packages\"):\n",
        "  os.makedirs(\"/local/lib/python3.11/dist-packages\")\n",
        "!python -m pip install faiss-cpu==1.7.3 numpy==1.26.4 pydub --target=\"/local/lib/python3.11/dist-packages\"\n",
        "\n",
        "\n",
        "#Now, zip that new /local directory we created earlier:\n",
        "print(\"Zipping the pips\")\n",
        "src_dir = \"/local\"\n",
        "Name_of_zip_file = Save_zip_to.split(\"/\")[-1]\n",
        "zip_path = f\"/content/{Name_of_zip_file}\"\n",
        "!zip -r $zip_path $src_dir\n",
        "print(f\"Zipped to: {zip_path}\")\n",
        "print(\"Copying to google drive\")\n",
        "Save_Path = '/'.join(Save_zip_to.split(\"/\")[0:-1])\n",
        "#Copy the zip file to Google Drive for easy access:\n",
        "if not os.path.exists(Save_Path):\n",
        "  os.makedirs(Save_Path)\n",
        "!cp $zip_path $Save_Path\n",
        "print(\"FINISHED!\")"
      ]
    },
    {
      "cell_type": "code",
      "source": [
        "#@title Install dependencies FROM Google Drive (2 minutes 30 seconds)\n",
        "\n",
        "#Now we can reinstall the pip dependencies WITHOUT pip, and MUCH faster here:\n",
        "\n",
        "#First, mount your google drive\n",
        "from google.colab import drive\n",
        "import os\n",
        "drive.mount('/content/drive')\n",
        "\n",
        "#Copy the zip file from the google drive\n",
        "print(\"copying zip file containing dependencies from google drive\")\n",
        "!cp \"/content/drive/MyDrive/speed_up_RVC/RVC-Easy-GUI-dist-packages.zip\" \"/content/dist-packages.zip\"\n",
        "\n",
        "#Delete the numpy package because we installed it earlier, so we can replace it with our own.\n",
        "for item in os.listdir(\"/usr/local/lib/python3.11/dist-packages/\"):\n",
        "  if \"numpy\" in item.lower():\n",
        "    item_path = os.path.join(\"/usr/local/lib/python3.11/dist-packages/\", item)\n",
        "    print(f\"Removing: {item_path}\")\n",
        "    !rm -rf {item_path}\n",
        "\n",
        "#FINALLY, UNZIP THE FILE TO GET ALL DEPENDENCIES INSTANTLY!!! NO PIP INSTALL REQUIRED!!!\n",
        "print(\"unzipping dependencies...\")\n",
        "!unzip -q -o /content/dist-packages.zip -d /usr\n",
        "\n",
        "print(\"Restart the runtime to load the new numpy\")"
      ],
      "metadata": {
        "id": "ZiIoKYX7sgGK"
      },
      "execution_count": null,
      "outputs": []
    },
    {
      "cell_type": "code",
      "source": [
        "#I used this for debugging. Nothing special.\n",
        "!unzip -q -o /content/dist-packages.zip -d /content"
      ],
      "metadata": {
        "id": "uEnx1dJTv39U"
      },
      "execution_count": null,
      "outputs": []
    }
  ]
}